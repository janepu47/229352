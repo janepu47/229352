{
  "cells": [
    {
      "cell_type": "markdown",
      "metadata": {
        "id": "view-in-github",
        "colab_type": "text"
      },
      "source": [
        "<a href=\"https://colab.research.google.com/github/janepu47/229352/blob/main/Copy_of_Lab08_Pytorch_660510757.ipynb\" target=\"_parent\"><img src=\"https://colab.research.google.com/assets/colab-badge.svg\" alt=\"Open In Colab\"/></a>"
      ]
    },
    {
      "cell_type": "markdown",
      "metadata": {
        "id": "kWYpEVonmVTd"
      },
      "source": [
        "### Statistical Learning for Data Science 2 (229352)\n",
        "#### Instructor: Donlapark Ponnoprat\n",
        "\n",
        "#### [Course website](https://donlapark.pages.dev/229352/)\n",
        "\n",
        "## Lab #8"
      ]
    },
    {
      "cell_type": "markdown",
      "metadata": {
        "id": "G-nQb7jGS3PJ"
      },
      "source": [
        "There are several deep learning frameworks in Python.\n",
        "\n",
        "<img src=\"https://upload.wikimedia.org/wikipedia/commons/thumb/c/c6/PyTorch_logo_black.svg/2560px-PyTorch_logo_black.svg.png\" width=\"100\"/>&nbsp;&nbsp;&nbsp;&nbsp;&nbsp;&nbsp;&nbsp;<img src=\"https://upload.wikimedia.org/wikipedia/commons/2/2d/Tensorflow_logo.svg\" width=\"40\"/><img src=\"https://assets-global.website-files.com/621e749a546b7592125f38ed/62277da165ed192adba475fc_JAX.jpg\" width=\"100\"/>\n",
        "\n",
        "In this Lab, we will use PyTorch"
      ]
    },
    {
      "cell_type": "code",
      "execution_count": 1,
      "metadata": {
        "id": "MzJSrt8CSv4p"
      },
      "outputs": [],
      "source": [
        "import numpy as np\n",
        "\n",
        "import torch"
      ]
    },
    {
      "cell_type": "markdown",
      "metadata": {
        "id": "QEsXce8XuwIW"
      },
      "source": [
        "# Tensor basics"
      ]
    },
    {
      "cell_type": "markdown",
      "metadata": {
        "id": "qr1d7mpfrQ-W"
      },
      "source": [
        "## Basic tensor creation"
      ]
    },
    {
      "cell_type": "markdown",
      "metadata": {
        "id": "zoo78UqZZBmo"
      },
      "source": [
        "### Creating a scalar (1D) tensor"
      ]
    },
    {
      "cell_type": "code",
      "execution_count": 2,
      "metadata": {
        "colab": {
          "base_uri": "https://localhost:8080/"
        },
        "id": "8QkirMVZUpfe",
        "outputId": "10a64aa4-4b70-41c6-e489-9779be14de5c"
      },
      "outputs": [
        {
          "output_type": "stream",
          "name": "stdout",
          "text": [
            "tensor(8)\n",
            "tensor(9)\n",
            "tensor(17)\n"
          ]
        }
      ],
      "source": [
        "a = torch.tensor(8)\n",
        "b = torch.tensor(9)\n",
        "print(a)\n",
        "print(b)\n",
        "print(a+b)"
      ]
    },
    {
      "cell_type": "markdown",
      "metadata": {
        "id": "Y2D_T5PPZI4L"
      },
      "source": [
        "### Convert a tensor to scalar"
      ]
    },
    {
      "cell_type": "code",
      "execution_count": 3,
      "metadata": {
        "colab": {
          "base_uri": "https://localhost:8080/"
        },
        "id": "BSkS98iYXVZI",
        "outputId": "1c056823-f9c6-41a5-b91b-f358ec68ea4a"
      },
      "outputs": [
        {
          "output_type": "execute_result",
          "data": {
            "text/plain": [
              "8"
            ]
          },
          "metadata": {},
          "execution_count": 3
        }
      ],
      "source": [
        "a.item()"
      ]
    },
    {
      "cell_type": "markdown",
      "metadata": {
        "id": "wLUTVuu8ZPCV"
      },
      "source": [
        "### Creating 2D tensor"
      ]
    },
    {
      "cell_type": "code",
      "execution_count": 4,
      "metadata": {
        "colab": {
          "base_uri": "https://localhost:8080/"
        },
        "id": "ST-ZldGXX9SY",
        "outputId": "4a5b6eb6-de7b-41b0-b67f-90aec76a7d32"
      },
      "outputs": [
        {
          "output_type": "stream",
          "name": "stdout",
          "text": [
            "tensor([[1, 2],\n",
            "        [3, 4]])\n"
          ]
        }
      ],
      "source": [
        "A = torch.tensor([[1, 2], [3, 4]])\n",
        "print(A)"
      ]
    },
    {
      "cell_type": "markdown",
      "metadata": {
        "id": "RL1rmhg8rVgY"
      },
      "source": [
        "## Tensor and Numpy"
      ]
    },
    {
      "cell_type": "markdown",
      "metadata": {
        "id": "1LSTMBVNZjAu"
      },
      "source": [
        "### Convert from tensor to numpy array"
      ]
    },
    {
      "cell_type": "code",
      "execution_count": 5,
      "metadata": {
        "colab": {
          "base_uri": "https://localhost:8080/"
        },
        "id": "I4LkkrQdYbLq",
        "outputId": "fcd29f07-e504-406f-efb3-13c4f04dbf05"
      },
      "outputs": [
        {
          "output_type": "execute_result",
          "data": {
            "text/plain": [
              "array([[1, 2],\n",
              "       [3, 4]])"
            ]
          },
          "metadata": {},
          "execution_count": 5
        }
      ],
      "source": [
        "A.numpy()"
      ]
    },
    {
      "cell_type": "markdown",
      "metadata": {
        "id": "xcFexnBYZn73"
      },
      "source": [
        "### Convert from numpy array to tensor"
      ]
    },
    {
      "cell_type": "code",
      "execution_count": 6,
      "metadata": {
        "colab": {
          "base_uri": "https://localhost:8080/"
        },
        "id": "lDRLWyGkZmjM",
        "outputId": "c77f29e8-d3d1-484d-f11f-5b608f5ea886"
      },
      "outputs": [
        {
          "output_type": "stream",
          "name": "stdout",
          "text": [
            "tensor([[1, 2],\n",
            "        [3, 4]])\n"
          ]
        }
      ],
      "source": [
        "B = np.array([[1, 2], [3, 4]])\n",
        "\n",
        "C = torch.from_numpy(B)\n",
        "print(C)"
      ]
    },
    {
      "cell_type": "markdown",
      "metadata": {
        "id": "5bLYQUdDb47c"
      },
      "source": [
        "## Basic operations"
      ]
    },
    {
      "cell_type": "code",
      "execution_count": 7,
      "metadata": {
        "colab": {
          "base_uri": "https://localhost:8080/"
        },
        "id": "O1ZL-UgraQZG",
        "outputId": "d8512662-aa48-416c-f24a-b37bcb9f35ac"
      },
      "outputs": [
        {
          "output_type": "stream",
          "name": "stdout",
          "text": [
            "tensor([[2, 4],\n",
            "        [6, 8]])\n",
            "tensor([[-9, -8],\n",
            "        [-7, -6]])\n"
          ]
        }
      ],
      "source": [
        "D = 2*C\n",
        "\n",
        "E = C - 10\n",
        "\n",
        "print(D)\n",
        "print(E)"
      ]
    },
    {
      "cell_type": "markdown",
      "metadata": {
        "id": "K_k3thRzrdpd"
      },
      "source": [
        "### Matrix multiplication"
      ]
    },
    {
      "cell_type": "code",
      "execution_count": 8,
      "metadata": {
        "colab": {
          "base_uri": "https://localhost:8080/"
        },
        "id": "d1XwpoNaakY2",
        "outputId": "ddfda8a8-be37-48a3-bf37-5f1094daae8e"
      },
      "outputs": [
        {
          "output_type": "stream",
          "name": "stdout",
          "text": [
            "tensor([[ -46,  -40],\n",
            "        [-110,  -96]])\n",
            "tensor([[ -46,  -40],\n",
            "        [-110,  -96]])\n",
            "tensor([[ -46,  -40],\n",
            "        [-110,  -96]])\n"
          ]
        }
      ],
      "source": [
        "print(torch.matmul(D, E))\n",
        "print(torch.mm(D, E))\n",
        "print(D @ E)"
      ]
    },
    {
      "cell_type": "markdown",
      "metadata": {
        "id": "TwJki4afrf0m"
      },
      "source": [
        "### Matrix transpose"
      ]
    },
    {
      "cell_type": "code",
      "execution_count": 9,
      "metadata": {
        "colab": {
          "base_uri": "https://localhost:8080/"
        },
        "id": "IumkARr4g3Nv",
        "outputId": "b350b933-759f-425d-fda4-e42c1a2ee601"
      },
      "outputs": [
        {
          "output_type": "stream",
          "name": "stdout",
          "text": [
            "tensor([[1, 2],\n",
            "        [3, 4]])\n",
            "tensor([[1, 3],\n",
            "        [2, 4]])\n"
          ]
        }
      ],
      "source": [
        "print(C)\n",
        "print( C.t() )"
      ]
    },
    {
      "cell_type": "markdown",
      "metadata": {
        "id": "AuwWEOBYcbiL"
      },
      "source": [
        "## Creating a specific type of tensor"
      ]
    },
    {
      "cell_type": "code",
      "execution_count": 10,
      "metadata": {
        "id": "Vg757DJLaoqh"
      },
      "outputs": [],
      "source": [
        "# print(torch.zeros(2,3))\n",
        "# print(torch.ones(2,3))\n",
        "# print(torch.rand(2,3))\n",
        "# print(torch.randn(2,3))  # sample each number from N(0, 1)\n",
        "# print(torch.arange(9))"
      ]
    },
    {
      "cell_type": "markdown",
      "metadata": {
        "id": "aUeodCiLrofw"
      },
      "source": [
        "## Tensor's shape"
      ]
    },
    {
      "cell_type": "markdown",
      "metadata": {
        "id": "qJTX5WOHhVsB"
      },
      "source": [
        "### Checking the shape of a tensor"
      ]
    },
    {
      "cell_type": "code",
      "execution_count": 11,
      "metadata": {
        "colab": {
          "base_uri": "https://localhost:8080/"
        },
        "id": "Nzn5Lyqfhcmf",
        "outputId": "f1441e8e-0a47-4368-fd26-bcab95988806"
      },
      "outputs": [
        {
          "output_type": "stream",
          "name": "stdout",
          "text": [
            "torch.Size([4, 5])\n",
            "torch.Size([4, 5])\n"
          ]
        }
      ],
      "source": [
        "F = torch.zeros((4, 5))\n",
        "print(F.shape)\n",
        "print(F.size())"
      ]
    },
    {
      "cell_type": "markdown",
      "metadata": {
        "id": "Vf21H-EvgE87"
      },
      "source": [
        "### Changing the shape of a tensor"
      ]
    },
    {
      "cell_type": "code",
      "execution_count": 12,
      "metadata": {
        "colab": {
          "base_uri": "https://localhost:8080/"
        },
        "id": "o71IJ7_ic1U8",
        "outputId": "74ca6e6a-1a11-4158-c97d-9b1d924bf5e5"
      },
      "outputs": [
        {
          "output_type": "stream",
          "name": "stdout",
          "text": [
            "tensor([[0, 1, 2],\n",
            "        [3, 4, 5]])\n",
            "tensor([[0, 1, 2],\n",
            "        [3, 4, 5]])\n"
          ]
        }
      ],
      "source": [
        "G = torch.arange(6)\n",
        "print(G.view(2, 3))\n",
        "print(G.reshape(2, 3))"
      ]
    },
    {
      "cell_type": "markdown",
      "metadata": {
        "id": "7nZgFYT5gd2_"
      },
      "source": [
        "In general, use `reshape`, but if you are worried about the memory usage, use `view`."
      ]
    },
    {
      "cell_type": "markdown",
      "metadata": {
        "id": "uEA3iRzznjNx"
      },
      "source": [
        "### Stacking and concatenating tensors"
      ]
    },
    {
      "cell_type": "code",
      "execution_count": 13,
      "metadata": {
        "colab": {
          "base_uri": "https://localhost:8080/"
        },
        "id": "MQ6JEjsmgbpI",
        "outputId": "72149944-5308-4737-cd46-f459c90ce7bb"
      },
      "outputs": [
        {
          "output_type": "stream",
          "name": "stdout",
          "text": [
            "tensor([[0, 1, 2, 3, 4, 5],\n",
            "        [0, 1, 2, 3, 4, 5],\n",
            "        [0, 1, 2, 3, 4, 5],\n",
            "        [0, 1, 2, 3, 4, 5]])\n",
            "tensor([[0, 0, 0, 0],\n",
            "        [1, 1, 1, 1],\n",
            "        [2, 2, 2, 2],\n",
            "        [3, 3, 3, 3],\n",
            "        [4, 4, 4, 4],\n",
            "        [5, 5, 5, 5]])\n"
          ]
        }
      ],
      "source": [
        "H = torch.arange(6)\n",
        "I = torch.stack([H, H, H, H], axis=0)\n",
        "J = torch.stack([H, H, H, H], axis=1)\n",
        "print(I)\n",
        "print(J)"
      ]
    },
    {
      "cell_type": "code",
      "execution_count": 14,
      "metadata": {
        "colab": {
          "base_uri": "https://localhost:8080/"
        },
        "id": "Zkz--DJuXyD1",
        "outputId": "e3143058-0bf2-4bcb-a7ce-f16dfc6bf1fd"
      },
      "outputs": [
        {
          "output_type": "stream",
          "name": "stdout",
          "text": [
            "tensor([0, 1, 2, 3, 4, 5, 0, 1, 2, 3, 4, 5, 0, 1, 2, 3, 4, 5, 0, 1, 2, 3, 4, 5])\n"
          ]
        }
      ],
      "source": [
        "# concatenate\n",
        "\n",
        "I = torch.cat([H, H, H, H], axis=0)\n",
        "print(I)\n",
        "# J = torch.cat([H, H, H, H], axis=1)\n",
        "#print(J)"
      ]
    },
    {
      "cell_type": "markdown",
      "metadata": {
        "id": "eWd_-Ub_pF3b"
      },
      "source": [
        "### Squeezing a tensor (removing an extra dimension)"
      ]
    },
    {
      "cell_type": "code",
      "execution_count": 15,
      "metadata": {
        "colab": {
          "base_uri": "https://localhost:8080/"
        },
        "id": "gf8iDb_PoX_4",
        "outputId": "4c408440-033c-4572-ce05-1c5880931f5b"
      },
      "outputs": [
        {
          "output_type": "stream",
          "name": "stdout",
          "text": [
            "H= tensor([0, 1, 2, 3, 4, 5])\n",
            "K= tensor([[0, 1, 2, 3, 4, 5]])\n",
            "torch.Size([1, 6])\n"
          ]
        }
      ],
      "source": [
        "# [[1,2]] this is (1,2) tensor, want (2,)\n",
        "print(\"H=\", H) # shape = (6,)\n",
        "K = H.reshape(1,6)\n",
        "print(\"K=\", K)\n",
        "print(K.shape)"
      ]
    },
    {
      "cell_type": "code",
      "execution_count": 16,
      "metadata": {
        "colab": {
          "base_uri": "https://localhost:8080/"
        },
        "id": "Ke3ro96Cp7rT",
        "outputId": "292a5f3a-a235-4ac8-c66e-711dd69e1690"
      },
      "outputs": [
        {
          "output_type": "stream",
          "name": "stdout",
          "text": [
            "tensor([0, 1, 2, 3, 4, 5])\n"
          ]
        }
      ],
      "source": [
        "print(K.squeeze())"
      ]
    },
    {
      "cell_type": "code",
      "execution_count": 17,
      "metadata": {
        "colab": {
          "base_uri": "https://localhost:8080/"
        },
        "id": "DJxWfoyOqaQs",
        "outputId": "3c4b7060-636b-4ce0-ef2f-456042559185"
      },
      "outputs": [
        {
          "output_type": "stream",
          "name": "stdout",
          "text": [
            "tensor([[0, 1, 2, 3, 4, 5]])\n",
            "tensor([[0],\n",
            "        [1],\n",
            "        [2],\n",
            "        [3],\n",
            "        [4],\n",
            "        [5]])\n"
          ]
        }
      ],
      "source": [
        "# H.shape = (6, )\n",
        "L = H.unsqueeze(axis=0)  # L.shape(1, 6)\n",
        "M = H.unsqueeze(axis=1)  # L.shape(6, 1)\n",
        "print(L)\n",
        "print(M)"
      ]
    },
    {
      "cell_type": "markdown",
      "metadata": {
        "id": "bfaM--ZlsUsB"
      },
      "source": [
        "## Indexing"
      ]
    },
    {
      "cell_type": "code",
      "execution_count": 18,
      "metadata": {
        "colab": {
          "base_uri": "https://localhost:8080/"
        },
        "id": "fPqsnD8qsWsH",
        "outputId": "2f14fbbf-eb64-450b-832e-91e8897d4334"
      },
      "outputs": [
        {
          "output_type": "stream",
          "name": "stdout",
          "text": [
            "tensor([[ 0,  1,  2,  3],\n",
            "        [ 4,  5,  6,  7],\n",
            "        [ 8,  9, 10, 11]])\n",
            "tensor([0, 1, 2, 3])\n",
            "tensor([0, 4, 8])\n",
            "tensor([ 8,  9, 10, 11])\n",
            "tensor([ 3,  7, 11])\n",
            "tensor([[ 4,  5,  6,  7],\n",
            "        [ 8,  9, 10, 11]])\n",
            "tensor([[ 2,  3],\n",
            "        [ 6,  7],\n",
            "        [10, 11]])\n"
          ]
        }
      ],
      "source": [
        "P = torch.arange(12).reshape(3,4)\n",
        "print(P)\n",
        "print(P[0])\n",
        "print(P[:, 0])\n",
        "print(P[-1])\n",
        "print(P[:, -1])\n",
        "print(P[-2:])\n",
        "print(P[:, -2:])"
      ]
    },
    {
      "cell_type": "markdown",
      "metadata": {
        "id": "ftVXJ-3ur9yk"
      },
      "source": [
        "## PyTorch and GPU"
      ]
    },
    {
      "cell_type": "markdown",
      "metadata": {
        "id": "2TmzZR23sKOW"
      },
      "source": [
        "check if GPU is available"
      ]
    },
    {
      "cell_type": "code",
      "execution_count": 19,
      "metadata": {
        "colab": {
          "base_uri": "https://localhost:8080/"
        },
        "id": "TSiXGmqrqyzw",
        "outputId": "658f80a8-8479-4fb7-da6b-0d17ddbe28a2"
      },
      "outputs": [
        {
          "output_type": "execute_result",
          "data": {
            "text/plain": [
              "True"
            ]
          },
          "metadata": {},
          "execution_count": 19
        }
      ],
      "source": [
        "torch.cuda.is_available()"
      ]
    },
    {
      "cell_type": "code",
      "execution_count": 20,
      "metadata": {
        "colab": {
          "base_uri": "https://localhost:8080/"
        },
        "id": "wjDt08_7sMxz",
        "outputId": "eac8d574-9374-4a4b-af41-99a8b4eb3d18"
      },
      "outputs": [
        {
          "output_type": "stream",
          "name": "stdout",
          "text": [
            "cpu\n"
          ]
        }
      ],
      "source": [
        "Q = torch.tensor([1, 2, 3])\n",
        "print(Q.device)"
      ]
    },
    {
      "cell_type": "code",
      "execution_count": 21,
      "metadata": {
        "colab": {
          "base_uri": "https://localhost:8080/"
        },
        "id": "7BitUf-RtdG3",
        "outputId": "1e6b0985-c950-452f-ec74-ae7bc9e06921"
      },
      "outputs": [
        {
          "output_type": "stream",
          "name": "stdout",
          "text": [
            "cpu\n",
            "cuda:0\n"
          ]
        }
      ],
      "source": [
        "R = Q.to('cuda')\n",
        "print(Q.device)\n",
        "print(R.device)"
      ]
    },
    {
      "cell_type": "code",
      "execution_count": 22,
      "metadata": {
        "colab": {
          "base_uri": "https://localhost:8080/"
        },
        "id": "PbsTOQ-Itiax",
        "outputId": "85978dda-8230-4932-9c5b-f89c5fdc827c"
      },
      "outputs": [
        {
          "output_type": "execute_result",
          "data": {
            "text/plain": [
              "array([1, 2, 3])"
            ]
          },
          "metadata": {},
          "execution_count": 22
        }
      ],
      "source": [
        "R.cpu().numpy()"
      ]
    },
    {
      "cell_type": "code",
      "execution_count": null,
      "metadata": {
        "id": "RkI3ITOLt2S6"
      },
      "outputs": [],
      "source": []
    },
    {
      "cell_type": "markdown",
      "metadata": {
        "id": "aZBZ3f66AFye"
      },
      "source": [
        "# Exercise\n",
        "\n",
        "In this exercise, we will simulate data to perform linear regression with 200 rows and 7 variables.\n",
        "\n",
        "1. Create three random $N(0,1)$ tensors: `X`, `b` and `e` with `X.shape = (200, 7)`, `b.shape = (8, 1)` and `e.shape = (200, 1)` respectively.\n",
        "2. Create a tensor that contains only 1's with shape `(200, 1)`.\n",
        "3. Modify tensor `X` by adding the tensor in 2. as the first column.\n",
        "4. Compute `y` using the following formula:\n",
        "$$ y = Xb + e $$.\n",
        "5. Fit a linear regression to the data `X` and `y` and obtain a tensor of estimated coefficient `b_hat`. The formula for `b_hat` is given by:\n",
        "$$ \\hat{b} = (X^TX)^{-1}X^Ty $$\n",
        "Note: use `torch.inverse(...)` to calculate the inverse\n",
        "6. Compute the predictions `y_hat`, given by:\n",
        "$$ \\hat{y} = X\\hat{b} $$\n",
        "7. Convert both `y` and `y_hat` from tensor to Numpy array and calculate MSE:\n",
        "$$ MSE = \\frac{1}{200}\\sum_{i=1}^{200} (y_i - \\hat{y}_i)^2 $$"
      ]
    },
    {
      "cell_type": "code",
      "execution_count": 23,
      "metadata": {
        "colab": {
          "base_uri": "https://localhost:8080/"
        },
        "id": "eQOsf3B_QnvN",
        "outputId": "035c2d0b-6887-47a0-cd42-7c3011845ff1"
      },
      "outputs": [
        {
          "output_type": "stream",
          "name": "stdout",
          "text": [
            "tensor([[2, 3, 2],\n",
            "        [4, 6, 7],\n",
            "        [7, 2, 4]])\n",
            "tensor([[1, 2, 3, 2],\n",
            "        [1, 4, 6, 7],\n",
            "        [1, 7, 2, 4]])\n"
          ]
        }
      ],
      "source": [
        "X = torch.tensor([[2, 3, 2], [4, 6, 7], [7, 2, 4]])\n",
        "print(X)\n",
        "\n",
        "X = torch.tensor([[1, 2, 3, 2], [1, 4, 6, 7], [1, 7, 2, 4]])\n",
        "print(X)"
      ]
    },
    {
      "cell_type": "code",
      "execution_count": 28,
      "metadata": {
        "id": "Qm_SlwkZQ_i1",
        "colab": {
          "base_uri": "https://localhost:8080/"
        },
        "outputId": "56d7302c-df1d-4386-8934-5fcea1737213"
      },
      "outputs": [
        {
          "output_type": "stream",
          "name": "stdout",
          "text": [
            "b\n",
            "tensor([[-0.1256],\n",
            "        [-0.4165],\n",
            "        [-0.5509],\n",
            "        [-0.6836]])\n",
            "\n",
            "e\n",
            "tensor([[-0.3542],\n",
            "        [ 2.4152],\n",
            "        [ 0.6409]])\n"
          ]
        }
      ],
      "source": [
        "# 1) Create three random  𝑁(0,1)\n",
        "b = torch.randn(4, 1)\n",
        "e = torch.randn(3, 1)\n",
        "\n",
        "print(\"b\")\n",
        "print(b)\n",
        "print(\"\\ne\")\n",
        "print(e)"
      ]
    },
    {
      "cell_type": "code",
      "source": [
        "# 2) Create a tensor that contains only 1's with shape (200, 1).\n",
        "ones = torch.ones(3, 1)\n",
        "print(\"ones tensor:\")\n",
        "print(ones)"
      ],
      "metadata": {
        "colab": {
          "base_uri": "https://localhost:8080/"
        },
        "id": "7wg45wRbrXFL",
        "outputId": "170c204f-d5f8-4ba1-cda7-44ef59b37317"
      },
      "execution_count": 30,
      "outputs": [
        {
          "output_type": "stream",
          "name": "stdout",
          "text": [
            "ones tensor:\n",
            "tensor([[1.],\n",
            "        [1.],\n",
            "        [1.]])\n"
          ]
        }
      ]
    },
    {
      "cell_type": "code",
      "source": [
        "# 3) Modify tensor X by adding the tensor in 2. as the first column.\n",
        "X_original = torch.tensor([[2, 3, 2], [4, 6, 7], [7, 2, 4]])\n",
        "X_with_intercept = torch.cat([ones, X_original], dim=1)\n",
        "\n",
        "print(X_with_intercept)"
      ],
      "metadata": {
        "colab": {
          "base_uri": "https://localhost:8080/"
        },
        "id": "4wt6V5QfrkxK",
        "outputId": "c9ba6e4a-c2f1-4b74-f1ce-dbd9e431a63f"
      },
      "execution_count": 32,
      "outputs": [
        {
          "output_type": "stream",
          "name": "stdout",
          "text": [
            "tensor([[1., 2., 3., 2.],\n",
            "        [1., 4., 6., 7.],\n",
            "        [1., 7., 2., 4.]])\n"
          ]
        }
      ]
    },
    {
      "cell_type": "code",
      "source": [
        "# 4) Compute y using the following formula: y = Xb + e\n",
        "y = X_with_intercept @ b + e\n",
        "print(y)"
      ],
      "metadata": {
        "colab": {
          "base_uri": "https://localhost:8080/"
        },
        "id": "hjdfE6xCryzm",
        "outputId": "7b0d491e-221c-45e2-fda4-0ccff4564eb3"
      },
      "execution_count": 34,
      "outputs": [
        {
          "output_type": "stream",
          "name": "stdout",
          "text": [
            "tensor([[-4.3327],\n",
            "        [-7.4672],\n",
            "        [-6.2366]])\n"
          ]
        }
      ]
    },
    {
      "cell_type": "code",
      "source": [
        "# 5) Fit a linear regression to the data X and y and obtain a tensor of estimated\n",
        "#.   coefficient b_hat\n",
        "\n",
        "X_T = X_with_intercept.t()\n",
        "X_T_X = X_T @ X_with_intercept      # X^T X\n",
        "X_T_X_inv = torch.inverse(X_T_X)    # (X^T X)^(-1)\n",
        "b_hat = X_T_X_inv @ X_T @ y         # b_hat = (X^T X)^(-1) X^T y\n",
        "\n",
        "print(\"X^T\")\n",
        "print(X_T)\n",
        "print(\"\\nX^T X\")\n",
        "print(X_T_X)\n",
        "print(\"\\n(X^T X)^(-1)\")\n",
        "print(X_T_X_inv)\n",
        "print(\"\\nb_hat\")\n",
        "print(b_hat)"
      ],
      "metadata": {
        "colab": {
          "base_uri": "https://localhost:8080/"
        },
        "id": "DBWouTWssBr7",
        "outputId": "dce3976b-da5c-41a7-fe56-7b12e30c18ec"
      },
      "execution_count": 38,
      "outputs": [
        {
          "output_type": "stream",
          "name": "stdout",
          "text": [
            "X^T\n",
            "tensor([[1., 1., 1.],\n",
            "        [2., 4., 7.],\n",
            "        [3., 6., 2.],\n",
            "        [2., 7., 4.]])\n",
            "\n",
            "X^T X\n",
            "tensor([[ 3., 13., 11., 13.],\n",
            "        [13., 69., 44., 60.],\n",
            "        [11., 44., 49., 56.],\n",
            "        [13., 60., 56., 69.]])\n",
            "\n",
            "(X^T X)^(-1)\n",
            "tensor([[ 5900331.5000, -1272620.6250, -2429548.7500,  1966777.7500],\n",
            "        [-1272620.3750,   274486.8750,   524020.4375,  -424207.1250],\n",
            "        [-2429548.2500,   524020.3438,  1000402.8125,  -809850.0625],\n",
            "        [ 1966777.0000,  -424207.0000,  -809850.0000,   655593.0625]])\n",
            "\n",
            "b_hat\n",
            "tensor([[-11.5374],\n",
            "        [ -1.7417],\n",
            "        [  2.8228],\n",
            "        [ -1.5017]])\n"
          ]
        }
      ]
    },
    {
      "cell_type": "code",
      "source": [
        "# 6) Compute the predictions y_hat\n",
        "\n",
        "y_hat = X_with_intercept @ b_hat\n",
        "print(\"y_hat\")\n",
        "print(y_hat)"
      ],
      "metadata": {
        "colab": {
          "base_uri": "https://localhost:8080/"
        },
        "id": "-5shVRkdstcF",
        "outputId": "42dee2b7-f360-4e55-cfa5-7f3f6664fe61"
      },
      "execution_count": 39,
      "outputs": [
        {
          "output_type": "stream",
          "name": "stdout",
          "text": [
            "y_hat\n",
            "tensor([[ -9.5557],\n",
            "        [-12.0790],\n",
            "        [-24.0905]])\n"
          ]
        }
      ]
    },
    {
      "cell_type": "code",
      "source": [
        "# 7) Convert both y and y_hat from tensor to Numpy array and calculate MSE\n",
        "\n",
        "y_np = y.numpy()\n",
        "y_hat_np = y_hat.numpy()\n",
        "\n",
        "# คำนวณ MSE: ค่าเฉลี่ยของผลต่างกำลังสอง\n",
        "mse = np.mean((y_np - y_hat_np) ** 2)\n",
        "\n",
        "print(\"y\")\n",
        "print(y_np)\n",
        "print(\"\\ny_hat\")\n",
        "print(y_hat_np)\n",
        "print(f\"\\nMSE: {mse:.4f}\")"
      ],
      "metadata": {
        "colab": {
          "base_uri": "https://localhost:8080/"
        },
        "id": "lSTPYjgzs5WU",
        "outputId": "6299a259-fb9b-482d-d1c5-c8fa9cfba441"
      },
      "execution_count": 44,
      "outputs": [
        {
          "output_type": "stream",
          "name": "stdout",
          "text": [
            "y\n",
            "[[-4.3326693]\n",
            " [-7.4672117]\n",
            " [-6.2365713]]\n",
            "\n",
            "y_hat\n",
            "[[ -9.555746]\n",
            " [-12.079031]\n",
            " [-24.090454]]\n",
            "\n",
            "MSE: 122.4368\n"
          ]
        }
      ]
    }
  ],
  "metadata": {
    "accelerator": "GPU",
    "colab": {
      "provenance": [],
      "include_colab_link": true
    },
    "gpuClass": "standard",
    "kernelspec": {
      "display_name": "Python 3 (ipykernel)",
      "language": "python",
      "name": "python3"
    },
    "language_info": {
      "codemirror_mode": {
        "name": "ipython",
        "version": 3
      },
      "file_extension": ".py",
      "mimetype": "text/x-python",
      "name": "python",
      "nbconvert_exporter": "python",
      "pygments_lexer": "ipython3",
      "version": "3.10.12"
    }
  },
  "nbformat": 4,
  "nbformat_minor": 0
}