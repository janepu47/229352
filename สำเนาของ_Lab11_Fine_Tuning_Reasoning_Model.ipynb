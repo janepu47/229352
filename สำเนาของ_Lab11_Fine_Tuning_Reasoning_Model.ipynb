{
  "cells": [
    {
      "cell_type": "markdown",
      "metadata": {
        "id": "view-in-github",
        "colab_type": "text"
      },
      "source": [
        "<a href=\"https://colab.research.google.com/github/janepu47/229352/blob/main/%E0%B8%AA%E0%B8%B3%E0%B9%80%E0%B8%99%E0%B8%B2%E0%B8%82%E0%B8%AD%E0%B8%87_Lab11_Fine_Tuning_Reasoning_Model.ipynb\" target=\"_parent\"><img src=\"https://colab.research.google.com/assets/colab-badge.svg\" alt=\"Open In Colab\"/></a>"
      ]
    },
    {
      "cell_type": "markdown",
      "metadata": {
        "editable": true,
        "id": "UwO9dWzUA_US",
        "tags": []
      },
      "source": [
        "### Statistical Learning for Data Science 2 (229352)\n",
        "#### Instructor: Donlapark Ponnoprat\n",
        "\n",
        "#### [Course website](https://donlapark.pages.dev/229352/)\n",
        "\n",
        "## Lab #11"
      ]
    },
    {
      "cell_type": "markdown",
      "metadata": {
        "id": "sW22b2ZS39U0"
      },
      "source": [
        "# Fine-Tuning Qwen3 for Thai Text Reasoning\n",
        "\n",
        "Today, you will learn how to take a pre-trained Large Language Model (LLM) and specialize it for **Thai text reasoning** using the [Thai Reasoning Dataset](https://huggingface.co/datasets/iapp/Thai-R1-Distill-SFT).\n",
        "\n",
        "We will be using [**Unsloth**](https://docs.unsloth.ai/get-started/all-our-models) to speeds up finetuning and reduces memory usage, making it possible to train in Google Colab."
      ]
    },
    {
      "cell_type": "markdown",
      "source": [
        "If GPUs are not available in your Colab, you might want to try these two alternatives:\n",
        "1. [Kaggle](https://www.kaggle.com)\n",
        "2. [lightning.ai](https://lightning.ai)"
      ],
      "metadata": {
        "id": "HxUn-UACT3Oi"
      }
    },
    {
      "cell_type": "markdown",
      "metadata": {
        "id": "v0IcypqaA_Up"
      },
      "source": [
        "### Installation"
      ]
    },
    {
      "cell_type": "code",
      "execution_count": 1,
      "metadata": {
        "id": "ygjKNxNUA_Ur"
      },
      "outputs": [],
      "source": [
        "%%capture\n",
        "import os, re\n",
        "if \"COLAB_\" not in \"\".join(os.environ.keys()):\n",
        "    !pip install unsloth\n",
        "else:\n",
        "    # Do this only in Colab notebooks! Otherwise use pip install unsloth\n",
        "    import torch; v = re.match(r\"[0-9\\.]{3,}\", str(torch.__version__)).group(0)\n",
        "    xformers = \"xformers==\" + (\"0.0.32.post2\" if v == \"2.8.0\" else \"0.0.29.post3\")\n",
        "    !pip install --no-deps bitsandbytes accelerate {xformers} peft trl triton cut_cross_entropy unsloth_zoo\n",
        "    !pip install sentencepiece protobuf \"datasets>=3.4.1,<4.0.0\" \"huggingface_hub>=0.34.0\" hf_transfer\n",
        "    !pip install --no-deps unsloth\n",
        "!pip install transformers==4.55.4\n",
        "!pip install --no-deps trl==0.22.2"
      ]
    },
    {
      "cell_type": "markdown",
      "metadata": {
        "id": "iajq1W8ipjyK"
      },
      "source": [
        "### Fine-tuning Qwen3 with Unsloth"
      ]
    },
    {
      "cell_type": "markdown",
      "metadata": {
        "id": "MuRJVZSV39U9"
      },
      "source": [
        "#### Transformer in Qwen3 vs GPT-2\n",
        "<img src=\"https://substackcdn.com/image/fetch/$s_!GGk9!,f_auto,q_auto:good,fl_progressive:steep/https%3A%2F%2Fsubstack-post-media.s3.amazonaws.com%2Fpublic%2Fimages%2Fa8fa602a-aa4d-4526-9252-c2f09dd5de92_1871x1920.png\" alt=\"transformers\" width=\"600\"/>\n",
        "\n",
        "[Source: [Sebastian Raschka](https://magazine.sebastianraschka.com/p/qwen3-from-scratch)]"
      ]
    },
    {
      "cell_type": "code",
      "execution_count": null,
      "metadata": {
        "id": "QmUBVEnvCDJv"
      },
      "outputs": [],
      "source": [
        "from unsloth import FastLanguageModel\n",
        "import torch\n",
        "\n",
        "model, tokenizer = FastLanguageModel.from_pretrained(\n",
        "    model_name = \"unsloth/Qwen3-14B\",\n",
        "    max_seq_length = 2048,   # Context length - can be longer, but uses more memory\n",
        "    load_in_4bit = True,     # 4bit uses much less memory\n",
        "    load_in_8bit = False,    # A bit more accurate, uses 2x memory\n",
        "    full_finetuning = False, # We have full finetuning now!\n",
        ")"
      ]
    },
    {
      "cell_type": "markdown",
      "source": [
        "#### Low-Rank Adaptation (LoRA)\n",
        "<img src=\"https://substackcdn.com/image/fetch/$s_!LXL5!,f_auto,q_auto:good,fl_progressive:steep/https%3A%2F%2Fsubstack-post-media.s3.amazonaws.com%2Fpublic%2Fimages%2F7ab94b67-4efa-45e2-9a77-3121d6c88c45_1284x364.png\" alt=\"LoRA\" width=\"600\"/>\n",
        "\n",
        "[Source: [Dasha Herrmannova](https://oneminutenlp.com/p/low-rank-adaptation)]"
      ],
      "metadata": {
        "id": "VHEgz3lv5YXH"
      }
    },
    {
      "cell_type": "markdown",
      "metadata": {
        "id": "SXd9bTZd1aaL"
      },
      "source": [
        "We now add LoRA adapters so we only need to update 1 to 10% of all parameters!"
      ]
    },
    {
      "cell_type": "code",
      "execution_count": null,
      "metadata": {
        "id": "6bZsfBuZDeCL"
      },
      "outputs": [],
      "source": [
        "model = FastLanguageModel.get_peft_model(\n",
        "    model,\n",
        "    r = 32,           # Choose any number > 0! Suggested 8, 16, 32, 64, 128\n",
        "    target_modules = [\"q_proj\", \"k_proj\", \"v_proj\", \"o_proj\",\n",
        "                      \"gate_proj\", \"up_proj\", \"down_proj\",],\n",
        "    lora_alpha = 32,  # Best to choose alpha = rank or rank*2\n",
        "    lora_dropout = 0, # Supports any, but = 0 is optimized\n",
        "    bias = \"none\",    # Supports any, but = \"none\" is optimized\n",
        "    # [NEW] \"unsloth\" uses 30% less VRAM, fits 2x larger batch sizes!\n",
        "    use_gradient_checkpointing = \"unsloth\", # True or \"unsloth\" for very long context\n",
        "    random_state = 3407,\n",
        "    use_rslora = False,   # We support rank stabilized LoRA\n",
        "    loftq_config = None,  # And LoftQ\n",
        ")"
      ]
    },
    {
      "cell_type": "markdown",
      "metadata": {
        "id": "vITh0KVJ10qX"
      },
      "source": [
        "<a name=\"Data\"></a>\n",
        "### Data Prep\n",
        "Use the [Thai Reasoning Dataset](https://huggingface.co/datasets/iapp/Thai-R1-Distill-SFT) provided by [iApp Technology](https://iapp.co.th/)."
      ]
    },
    {
      "cell_type": "code",
      "execution_count": null,
      "metadata": {
        "id": "5kyTw2n1edte"
      },
      "outputs": [],
      "source": [
        "from datasets import load_dataset\n",
        "reasoning_dataset = load_dataset(\"iapp/Thai-R1-Distill-SFT\", split = \"train\")"
      ]
    },
    {
      "cell_type": "markdown",
      "metadata": {
        "id": "PTZICZtie3lQ"
      },
      "source": [
        "Let's see the structure of both datasets:"
      ]
    },
    {
      "cell_type": "code",
      "execution_count": null,
      "metadata": {
        "id": "DjgH3lt0e2Sz"
      },
      "outputs": [],
      "source": [
        "reasoning_dataset"
      ]
    },
    {
      "cell_type": "markdown",
      "metadata": {
        "id": "YX8H3urDe00l"
      },
      "source": [
        "We now convert the reasoning dataset into conversational format:"
      ]
    },
    {
      "cell_type": "code",
      "execution_count": 6,
      "metadata": {
        "id": "LjY75GoYUCB8"
      },
      "outputs": [],
      "source": [
        "def generate_conversation(examples):\n",
        "    problems  = examples[\"problem\"]\n",
        "    solutions = examples[\"reannotated_assistant_content\"]\n",
        "    conversations = []\n",
        "    for problem, solution in zip(problems, solutions):\n",
        "        conversations.append([\n",
        "            {\"role\" : \"user\",      \"content\" : problem},\n",
        "            {\"role\" : \"assistant\", \"content\" : solution},\n",
        "        ])\n",
        "    return { \"conversations\": conversations, }"
      ]
    },
    {
      "cell_type": "code",
      "execution_count": null,
      "metadata": {
        "id": "gbh19fTOfHDB"
      },
      "outputs": [],
      "source": [
        "reasoning_conversations = tokenizer.apply_chat_template(\n",
        "    reasoning_dataset.map(generate_conversation, batched = True)[\"conversations\"],\n",
        "    tokenize = False,\n",
        ")"
      ]
    },
    {
      "cell_type": "markdown",
      "metadata": {
        "id": "XTexROzQfJn5"
      },
      "source": [
        "Let's see the first transformed row:"
      ]
    },
    {
      "cell_type": "code",
      "execution_count": 8,
      "metadata": {
        "id": "mkj4c6NrfIz3",
        "colab": {
          "base_uri": "https://localhost:8080/",
          "height": 107
        },
        "outputId": "ba151f09-8e74-4030-c82b-da226fb5ea92"
      },
      "outputs": [
        {
          "output_type": "execute_result",
          "data": {
            "text/plain": [
              "'<|im_start|>user\\nมีเด็กชาย 27 คนและเด็กหญิง 35 คนอยู่ในสนามเด็กเล่นในช่วงพัก มีเด็ก _____ คนอยู่ในสนามเด็กเล่นในช่วงพัก<|im_end|>\\n<|im_start|>assistant\\n<think>\\nก่อนอื่น ฉันต้องคำนวณจำนวนเด็กทั้งหมดในสนามเด็กเล่นโดยนำจำนวนเด็กชายและเด็กหญิงมาบวกกัน มีเด็กชาย 27 คนและเด็กหญิง 35 คน เมื่อบวกกันแล้ว เด็กชาย 27 คน + เด็กหญิง 35 คน = เด็ก 62 คน ดังนั้น จำนวนเด็กทั้งหมดในสนามเด็กเล่นคือ 62 คน\\n</think>\\n\\n ในการหาจำนวนเด็กทั้งหมดในสนามเด็กเล่น เราเพียงแค่บวกจำนวนเด็กชายและเด็กหญิงเข้าด้วยกัน \\\\[ \\\\text{จำนวนเด็กทั้งหมด} = \\\\text{จำนวนเด็กชาย} + \\\\text{จำนวนเด็กหญิง} \\\\] แทนค่าที่กำหนด: \\\\[ \\\\text{จำนวนเด็กทั้งหมด} = 27 \\\\text{ เด็กชาย} + 35 \\\\text{ เด็กหญิง} = 62 \\\\text{ เด็ก} \\\\] **คำตอบสุดท้าย:** \\\\[ \\\\boxed{62} \\\\]<|im_end|>\\n'"
            ],
            "application/vnd.google.colaboratory.intrinsic+json": {
              "type": "string"
            }
          },
          "metadata": {},
          "execution_count": 8
        }
      ],
      "source": [
        "reasoning_conversations[0]"
      ]
    },
    {
      "cell_type": "code",
      "execution_count": null,
      "metadata": {
        "id": "unDFuUq1foWj"
      },
      "outputs": [],
      "source": [
        "print(len(reasoning_conversations))"
      ]
    },
    {
      "cell_type": "code",
      "execution_count": 10,
      "metadata": {
        "id": "jfV47_SXgXH4"
      },
      "outputs": [],
      "source": [
        "import pandas as pd\n",
        "\n",
        "data = pd.Series(reasoning_conversations)\n",
        "data.name = \"text\"\n",
        "\n",
        "from datasets import Dataset\n",
        "prepared_dataset = Dataset.from_pandas(pd.DataFrame(data))\n",
        "prepared_dataset = prepared_dataset.shuffle(seed = 3407)"
      ]
    },
    {
      "cell_type": "markdown",
      "metadata": {
        "id": "idAEIeSQ3xdS"
      },
      "source": [
        "<a name=\"Train\"></a>\n",
        "### Train the model\n",
        "Now let's train our model. We do 60 steps to speed things up, but you can set `num_train_epochs=1` for a full run, and turn off `max_steps=None`."
      ]
    },
    {
      "cell_type": "code",
      "execution_count": null,
      "metadata": {
        "id": "95_Nn-89DhsL"
      },
      "outputs": [],
      "source": [
        "import gc\n",
        "from trl import SFTTrainer, SFTConfig\n",
        "\n",
        "# Free some memory\n",
        "gc.collect()\n",
        "torch.cuda.empty_cache()\n",
        "\n",
        "trainer = SFTTrainer(\n",
        "    model = model,\n",
        "    tokenizer = tokenizer,\n",
        "    train_dataset = prepared_dataset,\n",
        "    eval_dataset = None, # Can set up evaluation!\n",
        "    args = SFTConfig(\n",
        "        dataset_text_field = \"text\",\n",
        "        per_device_train_batch_size = 2,\n",
        "        gradient_accumulation_steps = 4, # Use GA to mimic batch size!\n",
        "        warmup_steps = 5,\n",
        "        # num_train_epochs = 1, # Set this for 1 full training run.\n",
        "        max_steps = 15,\n",
        "        learning_rate = 2e-4, # Reduce to 2e-5 for long training runs\n",
        "        logging_steps = 1,\n",
        "        optim = \"adamw_8bit\",\n",
        "        weight_decay = 0.01,\n",
        "        lr_scheduler_type = \"linear\",\n",
        "        seed = 3407,\n",
        "        report_to = \"none\", # Use this for WandB etc\n",
        "    ),\n",
        ")"
      ]
    },
    {
      "cell_type": "markdown",
      "metadata": {
        "id": "M9fa371ShyhB"
      },
      "source": [
        "Let's train the model! To resume a training run, set `trainer.train(resume_from_checkpoint = True)`"
      ]
    },
    {
      "cell_type": "code",
      "execution_count": null,
      "metadata": {
        "id": "yqxqAZ7KJ4oL"
      },
      "outputs": [],
      "source": [
        "trainer_stats = trainer.train()"
      ]
    },
    {
      "cell_type": "markdown",
      "metadata": {
        "id": "ekOmTR1hSNcr"
      },
      "source": [
        "<a name=\"Inference\"></a>\n",
        "### Inference\n",
        "Let's run the model via Unsloth native inference! According to the `Qwen-3` team, the recommended settings for reasoning inference are `temperature = 0.6, top_p = 0.95, top_k = 20`\n",
        "\n",
        "For normal chat based inference, `temperature = 0.7, top_p = 0.8, top_k = 20`"
      ]
    },
    {
      "cell_type": "code",
      "execution_count": null,
      "metadata": {
        "id": "kR3gIAX-SM2q"
      },
      "outputs": [],
      "source": [
        "FastLanguageModel.for_inference(model)\n",
        "\n",
        "messages = [\n",
        "    {\"role\" : \"user\", \"content\" : \"จงหาจำนวนเต็ม x และ y ทั้งหมดที่ x^2 - y^2 = 5\"}\n",
        "]\n",
        "text = tokenizer.apply_chat_template(\n",
        "    messages,\n",
        "    tokenize = False,\n",
        "    add_generation_prompt = True, # Must add for generation\n",
        "    enable_thinking = True, # Disable thinking\n",
        ")\n",
        "\n",
        "from transformers import TextStreamer\n",
        "_ = model.generate(\n",
        "    **tokenizer(text, return_tensors = \"pt\").to(\"cuda\"),\n",
        "    max_new_tokens = 1024, # Increase for longer outputs!\n",
        "    temperature = 0.7, top_p = 0.8, top_k = 20, # For non thinking\n",
        "    streamer = TextStreamer(tokenizer, skip_prompt = True),\n",
        ")"
      ]
    },
    {
      "cell_type": "markdown",
      "metadata": {
        "id": "GL_DcLXN39Vj"
      },
      "source": [
        "### Exercise 1: Ask the model a challenging math problem. You may increase the value of `max_new_tokens` if the model's answer is too short. Does the model solve your problem correctly?"
      ]
    },
    {
      "cell_type": "code",
      "source": [
        "FastLanguageModel.for_inference(model)\n",
        "\n",
        "messages = [\n",
        "    {\"role\" : \"user\", \"content\" : \"จงหาค่าสูงสุดของ $f(x, y) = x^2y$ เมื่อ $x+y=3$ และ $x,y \\ge 0$\"}\n",
        "]\n",
        "text = tokenizer.apply_chat_template(\n",
        "    messages,\n",
        "    tokenize = False,\n",
        "    add_generation_prompt = True,\n",
        "    enable_thinking = True,\n",
        ")\n",
        "\n",
        "from transformers import TextStreamer\n",
        "_ = model.generate(\n",
        "    **tokenizer(text, return_tensors = \"pt\").to(\"cuda\"),\n",
        "    max_new_tokens = 2048, # Increased for longer outputs!\n",
        "    temperature = 0.7, top_p = 0.8, top_k = 20,\n",
        "    streamer = TextStreamer(tokenizer, skip_prompt = True),\n",
        ")"
      ],
      "metadata": {
        "id": "TnLzIYUdEaw0"
      },
      "execution_count": null,
      "outputs": []
    },
    {
      "cell_type": "markdown",
      "metadata": {
        "id": "lTXuBGch39Vm"
      },
      "source": [
        "**Answer to Exercise 1**\n",
        "\n",
        "- โมเดลสามารถแก้ปัญหาการหาค่าสูงสุดได้อย่างถูกต้อง โดยโมเดลได้หาจุดวิกฤตจากการหาอนุพันธ์ของฟังก์ชันหลัง และสามารถระบุค่าสูงสุด รวมถึงค่า x และ y ที่สอดคล้องกันได้อย่างถูกต้อง"
      ]
    },
    {
      "cell_type": "markdown",
      "metadata": {
        "id": "uWuXN2Xq39Vm"
      },
      "source": [
        "### Visualizing Attention"
      ]
    },
    {
      "cell_type": "markdown",
      "metadata": {
        "id": "3Ga8dc-V39Vn"
      },
      "source": [
        "### Exercise 2: Fill in the ##TODO## part in the `visualize_attention()` function below to calculate the product between the query matrix `Q` and the key matrix `K`."
      ]
    },
    {
      "cell_type": "code",
      "execution_count": 15,
      "metadata": {
        "id": "Ug6jnMNh39Vq"
      },
      "outputs": [],
      "source": [
        "import matplotlib.pyplot as plt\n",
        "import numpy as np\n",
        "\n",
        "# Define the helper function to perform the rotation\n",
        "def rotate_half(x):\n",
        "    \"\"\"Rotates half the hidden dimensions of the input.\"\"\"\n",
        "    x1 = x[..., : x.shape[-1] // 2]\n",
        "    x2 = x[..., x.shape[-1] // 2 :]\n",
        "    return torch.cat((-x2, x1), dim=-1)\n",
        "\n",
        "# Define a global dictionary to store the attention matrix\n",
        "attention_viz_data = {}\n",
        "\n",
        "def visualize_attention(model, tokenizer, prompt, layer_number):\n",
        "    \"\"\"\n",
        "    Visualizes the QK^T attention matrix for a given prompt and layer,\n",
        "\n",
        "    Args:\n",
        "        model: The Unsloth Qwen3 14B model.\n",
        "        tokenizer: The tokenizer for the model.\n",
        "        prompt (str): The input text prompt.\n",
        "        layer_number (int): The decoder layer number to visualize.\n",
        "    \"\"\"\n",
        "    attention_viz_data.clear()\n",
        "\n",
        "    # 1. Get a reference to the specific attention layer\n",
        "    try:\n",
        "        attention_layer = model.base_model.model.model.layers[layer_number].self_attn\n",
        "    except AttributeError as e:\n",
        "        print(f\"Could not find the specified layer. Please double-check the model architecture path. Error: {e}\")\n",
        "        return\n",
        "\n",
        "    # 2. Store the original forward method\n",
        "    original_forward = attention_layer.forward\n",
        "\n",
        "    def new_forward(self, hidden_states, *args, **kwargs):\n",
        "        \"\"\"A new forward method to capture the QK^T matrix.\"\"\"\n",
        "\n",
        "        bsz, q_len, _ = hidden_states.size()\n",
        "\n",
        "        # Project to Q, K\n",
        "        Q_all_heads = self.q_proj(hidden_states)\n",
        "        K_all_heads = self.k_proj(hidden_states)\n",
        "\n",
        "        # Reshape for multi-head attention. Note the different head counts.\n",
        "        Q_all_heads = Q_all_heads.view(bsz, q_len, self.config.num_attention_heads, self.head_dim).transpose(1, 2)\n",
        "        K_all_heads = K_all_heads.view(bsz, q_len, self.config.num_key_value_heads, self.head_dim).transpose(1, 2)\n",
        "\n",
        "        # Get rotary embeddings\n",
        "        cos, sin = self.rotary_emb(K_all_heads, seq_len=q_len)\n",
        "\n",
        "        # Apply rotary embeddings directly\n",
        "        Q_all_heads = (Q_all_heads * cos) + (rotate_half(Q_all_heads) * sin)\n",
        "        K_all_heads = (K_all_heads * cos) + (rotate_half(K_all_heads) * sin)\n",
        "\n",
        "        # Repeat the key heads to match the number of query heads.\n",
        "        num_key_value_groups = self.config.num_attention_heads // self.config.num_key_value_heads\n",
        "        if num_key_value_groups > 1:\n",
        "            K_all_heads = K_all_heads.repeat_interleave(num_key_value_groups, dim=1)\n",
        "\n",
        "        # Now, the dimensions match for matrix multiplication:\n",
        "        # Q_all_heads: [1, 40, 29, 128] = [batch_size, num_heads, seq_len, head_dim]\n",
        "        # K_all_heads: [1, 40, 29, 128] = [batch_size, num_heads, seq_len, head_dim]\n",
        "\n",
        "        Q = Q_all_heads[0, 0]  # Query of the first head\n",
        "        K = K_all_heads[0, 0]  # Key of the first head\n",
        "\n",
        "        ########## TODO: CALCULATE QK^T ############\n",
        "        attention = torch.matmul(Q, K.transpose(0, 1))\n",
        "\n",
        "        # Store the matrix for visualization\n",
        "        attention_viz_data['qk_t'] = attention.detach()\n",
        "\n",
        "        # Call the original forward method to ensure the model's computation continues normally\n",
        "        return original_forward(hidden_states, *args, **kwargs)\n",
        "\n",
        "    # 3. Monkey-patch the layer's forward method\n",
        "    try:\n",
        "        attention_layer.forward = new_forward.__get__(attention_layer, type(attention_layer))\n",
        "\n",
        "        # 4. Prepare and run the model\n",
        "        inputs = tokenizer(prompt, return_tensors=\"pt\")\n",
        "        input_ids = inputs.input_ids.to(model.device)\n",
        "\n",
        "        with torch.no_grad():\n",
        "            _ = model(input_ids)\n",
        "\n",
        "    finally:\n",
        "        # 5. Restore the original forward method\n",
        "        attention_layer.forward = original_forward\n",
        "\n",
        "    # 6. Visualize the captured data\n",
        "    if 'qk_t' in attention_viz_data:\n",
        "        # We visualize the scores for the first head of the first batch item\n",
        "        qk_matrix = attention_viz_data['qk_t'].cpu().float().numpy()\n",
        "\n",
        "        tokens = tokenizer.convert_ids_to_tokens(input_ids[0])\n",
        "        tokens = [token[1:] if token[0] == 'Ġ' else token for token in tokens]\n",
        "\n",
        "        plt.figure(figsize=(12, 10))\n",
        "        im = plt.imshow(qk_matrix, cmap='viridis', interpolation='nearest')\n",
        "        plt.colorbar(im, label='Attention Score (Logits)')\n",
        "        plt.xticks(ticks=np.arange(len(tokens)), labels=tokens, rotation=90)\n",
        "        plt.yticks(ticks=np.arange(len(tokens)), labels=tokens)\n",
        "        plt.xlabel(\"Key Tokens\")\n",
        "        plt.ylabel(\"Query Tokens\")\n",
        "        plt.title(f\"QK^T Matrix Visualization for Layer {layer_number}, Head 0\")\n",
        "        plt.tight_layout()\n",
        "        plt.show()\n",
        "    else:\n",
        "        print(f\"Failed to capture the QK^T matrix for layer {layer_number}.\")"
      ]
    },
    {
      "cell_type": "code",
      "execution_count": null,
      "metadata": {
        "id": "NHyM_3_S39Vs"
      },
      "outputs": [],
      "source": [
        "example_text = \"Find all integers x and y such that x^2 - y^2 = 5.\"\n",
        "\n",
        "visualize_attention(model, tokenizer, example_text, 0)"
      ]
    },
    {
      "cell_type": "markdown",
      "metadata": {
        "id": "uGlnY8jc39Vu"
      },
      "source": [
        "### Exercise 3: Choose your own example text. Find **two** pairs of two distinct words with the highest attention values. Why do you think those two pairs have the highest attention values?"
      ]
    },
    {
      "cell_type": "code",
      "execution_count": null,
      "metadata": {
        "id": "QrGY-d7I39Vv"
      },
      "outputs": [],
      "source": [
        "### YOUR CODE HERE ###\n",
        "example_text_thai = \"นักเรียนกำลังเรียนวิชาคณิตศาสตร์ในห้องเรียน\"\n",
        "\n",
        "visualize_attention(model, tokenizer, example_text_thai, 0)\n",
        "\n",
        "# Analyze the attention_viz_data to find the highest attention values\n",
        "if 'qk_t' in attention_viz_data:\n",
        "    qk_matrix = attention_viz_data['qk_t'].cpu().float().numpy()\n",
        "    input_ids = tokenizer(example_text_thai, return_tensors=\"pt\").input_ids[0]\n",
        "    tokens = tokenizer.convert_ids_to_tokens(input_ids)\n",
        "    tokens = [token[1:] if token[0] == 'Ġ' else token for token in tokens]\n",
        "\n",
        "    # Flatten the matrix and get indices of top values\n",
        "    flat_qk = qk_matrix.flatten()\n",
        "    # Exclude diagonal (word attending to itself)\n",
        "    np.fill_diagonal(qk_matrix, -np.inf) # Temporarily set diagonal to a very low value\n",
        "\n",
        "    # Find the indices of the top 4 values (to get 2 pairs)\n",
        "    top_indices = np.argpartition(flat_qk, -4)[-4:]\n",
        "\n",
        "    # Convert flat indices to 2D indices\n",
        "    top_2d_indices = np.unravel_index(top_indices, qk_matrix.shape)\n",
        "\n",
        "    print(\"\\nPairs of words with the highest attention values:\")\n",
        "    highest_attention_pairs = []\n",
        "    for i in range(len(top_indices)):\n",
        "        row_idx, col_idx = top_2d_indices[0][i], top_2d_indices[1][i]\n",
        "        attention_score = qk_matrix[row_idx, col_idx]\n",
        "        query_token = tokens[row_idx]\n",
        "        key_token = tokens[col_idx]\n",
        "        highest_attention_pairs.append(((query_token, key_token), attention_score))\n",
        "        print(f\"Query: '{query_token}', Key: '{key_token}', Attention: {attention_score:.4f}\")\n",
        "\n",
        "    # Restore the diagonal for potential future use (though not needed in this cell)\n",
        "    # You would need to re-calculate the original matrix if you truly needed it restored.\n",
        "    # For this analysis, we just needed to find the max off-diagonal values.\n",
        "\n",
        "\n",
        "else:\n",
        "    print(\"Attention data not available for analysis.\")"
      ]
    },
    {
      "cell_type": "markdown",
      "metadata": {
        "id": "81aea591"
      },
      "source": [
        "**Answers to Exercise 3**\n",
        "\n",
        "\n",
        "**เหตุผลที่คู่คำเหล่านี้มีค่าความสนใจสูงสุด:**\n",
        " ใน Layer แรกๆมักจะเรียนรู้ความสัมพันธ์ในระดับที่ใกล้เคียงกันแสดงให้เห็นว่าโมเดลเรียนรู้ที่จะเชื่อมโยงส่วนประกอบเหล่านี้เข้าด้วยกันเพื่อสร้างการตีความของคำนั้นๆ\n"
      ]
    },
    {
      "cell_type": "markdown",
      "metadata": {
        "id": "uMuVrWbjAzhc"
      },
      "source": [
        "<a name=\"Save\"></a>\n",
        "### Saving, loading finetuned models\n",
        "To save the final model as LoRA adapters, either use Huggingface's `push_to_hub` for an online save or `save_pretrained` for a local save.\n",
        "\n",
        "**[NOTE]** This ONLY saves the LoRA adapters, and not the full model. To save to 16bit or GGUF, scroll down!"
      ]
    },
    {
      "cell_type": "code",
      "execution_count": 18,
      "metadata": {
        "id": "upcOlWe7A1vc",
        "colab": {
          "base_uri": "https://localhost:8080/"
        },
        "outputId": "2d6345cb-0688-4f51-bd5d-e09fdfdcfddf"
      },
      "outputs": [
        {
          "output_type": "execute_result",
          "data": {
            "text/plain": [
              "('lora_model/tokenizer_config.json',\n",
              " 'lora_model/special_tokens_map.json',\n",
              " 'lora_model/chat_template.jinja',\n",
              " 'lora_model/vocab.json',\n",
              " 'lora_model/merges.txt',\n",
              " 'lora_model/added_tokens.json',\n",
              " 'lora_model/tokenizer.json')"
            ]
          },
          "metadata": {},
          "execution_count": 18
        }
      ],
      "source": [
        "model.save_pretrained(\"lora_model\")  # Local saving\n",
        "tokenizer.save_pretrained(\"lora_model\")\n",
        "# model.push_to_hub(\"your_name/lora_model\", token = \"...\") # Online saving\n",
        "# tokenizer.push_to_hub(\"your_name/lora_model\", token = \"...\") # Online saving"
      ]
    },
    {
      "cell_type": "markdown",
      "metadata": {
        "id": "AEEcJ4qfC7Lp"
      },
      "source": [
        "Now if you want to load the LoRA adapters we just saved for inference, set `False` to `True`:"
      ]
    },
    {
      "cell_type": "code",
      "execution_count": 19,
      "metadata": {
        "id": "MKX_XKs_BNZR"
      },
      "outputs": [],
      "source": [
        "if False:\n",
        "    from unsloth import FastLanguageModel\n",
        "    model, tokenizer = FastLanguageModel.from_pretrained(\n",
        "        model_name = \"lora_model\", # YOUR MODEL YOU USED FOR TRAINING\n",
        "        max_seq_length = 2048,\n",
        "        load_in_4bit = True,\n",
        "    )"
      ]
    },
    {
      "cell_type": "markdown",
      "metadata": {
        "id": "f422JgM9sdVT"
      },
      "source": [
        "### Saving to float16 for VLLM\n",
        "\n",
        "We also support saving to `float16` directly. Select `merged_16bit` for float16 or `merged_4bit` for int4. We also allow `lora` adapters as a fallback. Use `push_to_hub_merged` to upload to your Hugging Face account! You can go to https://huggingface.co/settings/tokens for your personal tokens."
      ]
    },
    {
      "cell_type": "code",
      "execution_count": 20,
      "metadata": {
        "id": "iHjt_SMYsd3P"
      },
      "outputs": [],
      "source": [
        "# Merge to 16bit\n",
        "if False:\n",
        "    model.save_pretrained_merged(\"model\", tokenizer, save_method = \"merged_16bit\",)\n",
        "if False: # Pushing to HF Hub\n",
        "    model.push_to_hub_merged(\"hf/model\", tokenizer, save_method = \"merged_16bit\", token = \"\")\n",
        "\n",
        "# Merge to 4bit\n",
        "if False:\n",
        "    model.save_pretrained_merged(\"model\", tokenizer, save_method = \"merged_4bit\",)\n",
        "if False: # Pushing to HF Hub\n",
        "    model.push_to_hub_merged(\"hf/model\", tokenizer, save_method = \"merged_4bit\", token = \"\")\n",
        "\n",
        "# Just LoRA adapters\n",
        "if False:\n",
        "    model.save_pretrained(\"model\")\n",
        "    tokenizer.save_pretrained(\"model\")\n",
        "if False: # Pushing to HF Hub\n",
        "    model.push_to_hub(\"hf/model\", token = \"\")\n",
        "    tokenizer.push_to_hub(\"hf/model\", token = \"\")\n"
      ]
    }
  ],
  "metadata": {
    "accelerator": "GPU",
    "colab": {
      "gpuType": "T4",
      "provenance": [],
      "include_colab_link": true
    },
    "kernelspec": {
      "display_name": "Python 3",
      "name": "python3"
    },
    "language_info": {
      "codemirror_mode": {
        "name": "ipython",
        "version": 3
      },
      "file_extension": ".py",
      "mimetype": "text/x-python",
      "name": "python",
      "nbconvert_exporter": "python",
      "pygments_lexer": "ipython3",
      "version": "3.10.10"
    }
  },
  "nbformat": 4,
  "nbformat_minor": 0
}